{
 "cells": [
  {
   "cell_type": "code",
   "execution_count": 1,
   "id": "81e91383-2237-4a50-982b-102c5f6f2af6",
   "metadata": {},
   "outputs": [],
   "source": [
    "# %matplotlib widget\n",
    "%matplotlib inline\n",
    "%config InlineBackend.figure_format = \"retina\"\n",
    "\n",
    "import sys\n",
    "import pandas as pd\n",
    "import matplotlib.pyplot as plt\n",
    "import seaborn\n",
    "\n",
    "seaborn.set(context=\"notebook\", style=\"darkgrid\")\n",
    "plt.rcParams[\"figure.figsize\"] = (8, 6)\n",
    "from tqdm.auto import tqdm, trange\n",
    "\n",
    "from ssptools import evolve_mf_3 as emf3\n",
    "from limepy import *\n",
    "from scipy.signal import convolve\n",
    "import numpy as np\n",
    "import scipy\n",
    "import scipy as sp\n",
    "import pandas as pd\n",
    "from scipy.interpolate import BPoly, interp1d, UnivariateSpline\n",
    "from numpy import exp, sqrt, pi, sin, cos, log10\n",
    "from scipy.special import gamma, gammainc, hyp1f1\n",
    "from scipy.integrate import ode, simpson, quad\n",
    "from math import factorial, sinh\n",
    "import astropy.units as u\n",
    "from astropy.constants import c\n",
    "from astropy.table import QTable\n",
    "from astropy.io import ascii"
   ]
  },
  {
   "cell_type": "code",
   "execution_count": 2,
   "id": "2150455f-e9ca-48a1-aabf-8312addffad5",
   "metadata": {},
   "outputs": [],
   "source": [
    "import fitter\n",
    "from fitter.probabilities.pulsars import *"
   ]
  },
  {
   "cell_type": "code",
   "execution_count": 3,
   "id": "63ad277a-7288-4bd3-b04e-57ba33ee48a5",
   "metadata": {},
   "outputs": [],
   "source": [
    "pulsars = QTable(ascii.read(\"../../47-tuc-pulsar-fitting/data/pulsar_accelerations.csv\"))"
   ]
  },
  {
   "cell_type": "code",
   "execution_count": 4,
   "id": "b658fedb-84cd-4e8f-9f5b-78b96e9b74ba",
   "metadata": {},
   "outputs": [
    {
     "data": {
      "text/html": [
       "<i>QTable length=10</i>\n",
       "<table id=\"table139742238487072\" class=\"table-striped table-bordered table-condensed\">\n",
       "<thead><tr><th>Pulsar</th><th>a_los</th><th>sigma_a_los</th><th>r_pc</th><th>j_los</th><th>m_companion</th><th>m_total</th><th>DM</th><th>sigma_DM</th></tr></thead>\n",
       "<thead><tr><th>str1</th><th>float64</th><th>float64</th><th>float64</th><th>float64</th><th>str5</th><th>str8</th><th>float64</th><th>float64</th></tr></thead>\n",
       "<tr><td>E</td><td>7.31e-09</td><td>3.2e-10</td><td>0.8465</td><td>-3.1e-21</td><td>0.2</td><td>2.3(7)</td><td>24.236</td><td>0.004</td></tr>\n",
       "<tr><td>H</td><td>-1e-09</td><td>9e-10</td><td>1.0473</td><td>-1.55e-19</td><td>0.2</td><td>1.665(7)</td><td>24.369</td><td>0.008</td></tr>\n",
       "<tr><td>I</td><td>-1.18e-08</td><td>3.7e-09</td><td>0.3782</td><td>3.5e-20</td><td>0.03</td><td>0</td><td>24.429</td><td>0.01</td></tr>\n",
       "<tr><td>Q</td><td>3e-09</td><td>7e-10</td><td>1.2963</td><td>-9e-22</td><td>0.2</td><td>0</td><td>24.265</td><td>0.004</td></tr>\n",
       "<tr><td>R</td><td>1.01e-08</td><td>1.9e-09</td><td>0.2072</td><td>8.9e-21</td><td>0.03</td><td>0</td><td>24.361</td><td>0.007</td></tr>\n",
       "<tr><td>S</td><td>-1.42e-08</td><td>1.1e-09</td><td>0.2933</td><td>6.6e-21</td><td>0.2</td><td>3.1(1.1)</td><td>24.376</td><td>0.004</td></tr>\n",
       "<tr><td>T</td><td>7.7e-09</td><td>3.5e-09</td><td>0.4336</td><td>7.8e-21</td><td>0.2</td><td>0</td><td>24.411</td><td>0.021</td></tr>\n",
       "<tr><td>U</td><td>5.31e-09</td><td>3.8e-10</td><td>1.2805</td><td>-2.44e-20</td><td>0.2</td><td>1.7(7)</td><td>24.337</td><td>0.004</td></tr>\n",
       "<tr><td>Y</td><td>-5.4e-09</td><td>4e-10</td><td>0.5107</td><td>1.39e-20</td><td>0.03</td><td>0</td><td>24.468</td><td>0.004</td></tr>\n",
       "<tr><td>X</td><td>1.67e-09</td><td>7.9e-10</td><td>4.9552</td><td>0.0</td><td>0.36+</td><td>0</td><td>24.539</td><td>0.005</td></tr>\n",
       "</table>"
      ],
      "text/plain": [
       "<QTable length=10>\n",
       "Pulsar   a_los   sigma_a_los   r_pc  ... m_companion m_total     DM   sigma_DM\n",
       " str1   float64    float64   float64 ...     str5      str8   float64 float64 \n",
       "------ --------- ----------- ------- ... ----------- -------- ------- --------\n",
       "     E  7.31e-09     3.2e-10  0.8465 ...         0.2   2.3(7)  24.236    0.004\n",
       "     H    -1e-09       9e-10  1.0473 ...         0.2 1.665(7)  24.369    0.008\n",
       "     I -1.18e-08     3.7e-09  0.3782 ...        0.03        0  24.429     0.01\n",
       "     Q     3e-09       7e-10  1.2963 ...         0.2        0  24.265    0.004\n",
       "     R  1.01e-08     1.9e-09  0.2072 ...        0.03        0  24.361    0.007\n",
       "     S -1.42e-08     1.1e-09  0.2933 ...         0.2 3.1(1.1)  24.376    0.004\n",
       "     T   7.7e-09     3.5e-09  0.4336 ...         0.2        0  24.411    0.021\n",
       "     U  5.31e-09     3.8e-10  1.2805 ...         0.2   1.7(7)  24.337    0.004\n",
       "     Y  -5.4e-09       4e-10  0.5107 ...        0.03        0  24.468    0.004\n",
       "     X  1.67e-09     7.9e-10  4.9552 ...       0.36+        0  24.539    0.005"
      ]
     },
     "execution_count": 4,
     "metadata": {},
     "output_type": "execute_result"
    }
   ],
   "source": [
    "pulsars"
   ]
  },
  {
   "cell_type": "code",
   "execution_count": 5,
   "id": "1094da75-9235-4e21-acae-63aa91c61559",
   "metadata": {},
   "outputs": [],
   "source": [
    "pulsars[\"a_los\"] <<= (u.m / u.s /u.s)\n",
    "pulsars[\"r_pc\"] <<= (u.pc)\n",
    "pulsars[\"j_los\"] <<= (u.m / u.s /u.s / u.s)\n"
   ]
  },
  {
   "cell_type": "code",
   "execution_count": 6,
   "id": "267d8a30-c65f-4c1e-bf09-d72271e895c5",
   "metadata": {},
   "outputs": [
    {
     "data": {
      "text/html": [
       "<i>QTable length=10</i>\n",
       "<table id=\"table139742238487072\" class=\"table-striped table-bordered table-condensed\">\n",
       "<thead><tr><th>Pulsar</th><th>a_los</th><th>sigma_a_los</th><th>r_pc</th><th>j_los</th><th>m_companion</th><th>m_total</th><th>DM</th><th>sigma_DM</th></tr></thead>\n",
       "<thead><tr><th></th><th>m / s2</th><th></th><th>pc</th><th>m / s3</th><th></th><th></th><th></th><th></th></tr></thead>\n",
       "<thead><tr><th>str1</th><th>float64</th><th>float64</th><th>float64</th><th>float64</th><th>str5</th><th>str8</th><th>float64</th><th>float64</th></tr></thead>\n",
       "<tr><td>E</td><td>7.31e-09</td><td>3.2e-10</td><td>0.8465</td><td>-3.1e-21</td><td>0.2</td><td>2.3(7)</td><td>24.236</td><td>0.004</td></tr>\n",
       "<tr><td>H</td><td>-1e-09</td><td>9e-10</td><td>1.0473</td><td>-1.55e-19</td><td>0.2</td><td>1.665(7)</td><td>24.369</td><td>0.008</td></tr>\n",
       "<tr><td>I</td><td>-1.18e-08</td><td>3.7e-09</td><td>0.3782</td><td>3.5e-20</td><td>0.03</td><td>0</td><td>24.429</td><td>0.01</td></tr>\n",
       "<tr><td>Q</td><td>3e-09</td><td>7e-10</td><td>1.2963</td><td>-9e-22</td><td>0.2</td><td>0</td><td>24.265</td><td>0.004</td></tr>\n",
       "<tr><td>R</td><td>1.01e-08</td><td>1.9e-09</td><td>0.2072</td><td>8.9e-21</td><td>0.03</td><td>0</td><td>24.361</td><td>0.007</td></tr>\n",
       "<tr><td>S</td><td>-1.42e-08</td><td>1.1e-09</td><td>0.2933</td><td>6.6e-21</td><td>0.2</td><td>3.1(1.1)</td><td>24.376</td><td>0.004</td></tr>\n",
       "<tr><td>T</td><td>7.7e-09</td><td>3.5e-09</td><td>0.4336</td><td>7.8e-21</td><td>0.2</td><td>0</td><td>24.411</td><td>0.021</td></tr>\n",
       "<tr><td>U</td><td>5.31e-09</td><td>3.8e-10</td><td>1.2805</td><td>-2.44e-20</td><td>0.2</td><td>1.7(7)</td><td>24.337</td><td>0.004</td></tr>\n",
       "<tr><td>Y</td><td>-5.4e-09</td><td>4e-10</td><td>0.5107</td><td>1.39e-20</td><td>0.03</td><td>0</td><td>24.468</td><td>0.004</td></tr>\n",
       "<tr><td>X</td><td>1.67e-09</td><td>7.9e-10</td><td>4.9552</td><td>0.0</td><td>0.36+</td><td>0</td><td>24.539</td><td>0.005</td></tr>\n",
       "</table>"
      ],
      "text/plain": [
       "<QTable length=10>\n",
       "Pulsar   a_los   sigma_a_los   r_pc  ... m_companion m_total     DM   sigma_DM\n",
       "         m / s2                 pc   ...                                      \n",
       " str1   float64    float64   float64 ...     str5      str8   float64 float64 \n",
       "------ --------- ----------- ------- ... ----------- -------- ------- --------\n",
       "     E  7.31e-09     3.2e-10  0.8465 ...         0.2   2.3(7)  24.236    0.004\n",
       "     H    -1e-09       9e-10  1.0473 ...         0.2 1.665(7)  24.369    0.008\n",
       "     I -1.18e-08     3.7e-09  0.3782 ...        0.03        0  24.429     0.01\n",
       "     Q     3e-09       7e-10  1.2963 ...         0.2        0  24.265    0.004\n",
       "     R  1.01e-08     1.9e-09  0.2072 ...        0.03        0  24.361    0.007\n",
       "     S -1.42e-08     1.1e-09  0.2933 ...         0.2 3.1(1.1)  24.376    0.004\n",
       "     T   7.7e-09     3.5e-09  0.4336 ...         0.2        0  24.411    0.021\n",
       "     U  5.31e-09     3.8e-10  1.2805 ...         0.2   1.7(7)  24.337    0.004\n",
       "     Y  -5.4e-09       4e-10  0.5107 ...        0.03        0  24.468    0.004\n",
       "     X  1.67e-09     7.9e-10  4.9552 ...       0.36+        0  24.539    0.005"
      ]
     },
     "execution_count": 6,
     "metadata": {},
     "output_type": "execute_result"
    }
   ],
   "source": [
    "pulsars"
   ]
  },
  {
   "cell_type": "code",
   "execution_count": 7,
   "id": "e823a42f-88e4-418f-9302-f5075680f859",
   "metadata": {},
   "outputs": [],
   "source": [
    "m123 = [0.1, 0.5, 1.0, 100]  # Slope breakpoints for initial mass function\n",
    "a12 = [-0.49, -0.56, -2.58]  # Slopes for initial mass function\n",
    "nbin12 = [5, 5, 20]\n",
    "\n",
    "# Output times for the evolution\n",
    "tout = np.array(\n",
    "    [\n",
    "        11000,\n",
    "    ]\n",
    ")\n",
    "# tout = np.array([11000])\n",
    "\n",
    "# Integration settings\n",
    "N0 = 5e5  # Normalization of stars\n",
    "Ndot = -0.0001  # Regulates how low mass objects are depleted default -20, 0 for 47 Tuc\n",
    "tcc = 0  # Core collapse time\n",
    "NS_ret = 0.1  # Initial neutron star retention\n",
    "BH_ret_int = 1  # Initial Black Hole retention\n",
    "BH_ret_dyn = 0.00235  # Dynamical Black Hole retention\n",
    "FeHe = -0.7  # Metallicity"
   ]
  },
  {
   "cell_type": "code",
   "execution_count": 8,
   "id": "3435820a-8c7b-4eef-abff-70e691e74bf5",
   "metadata": {},
   "outputs": [
    {
     "name": "stderr",
     "output_type": "stream",
     "text": [
      "/home/peter/anaconda3/envs/gcfit/lib/python3.8/site-packages/ssptools/evolve_mf_3.py:321: RuntimeWarning: divide by zero encountered in true_divide\n",
      "  As = Ns / P1\n"
     ]
    }
   ],
   "source": [
    "f = emf3.evolve_mf(\n",
    "    m123=m123,\n",
    "    a12=a12,\n",
    "    nbin12=nbin12,\n",
    "    tout=tout,\n",
    "    N0=N0,\n",
    "    Ndot=Ndot,\n",
    "    tcc=tcc,\n",
    "    NS_ret=NS_ret,\n",
    "    BH_ret_int=BH_ret_int,\n",
    "    BH_ret_dyn=BH_ret_dyn,\n",
    "    FeHe=FeHe,\n",
    "    natal_kicks=True,\n",
    "    vesc=150,\n",
    ")"
   ]
  },
  {
   "cell_type": "code",
   "execution_count": 9,
   "id": "247d3704-d9ec-42ff-b942-94ff9e751bda",
   "metadata": {},
   "outputs": [],
   "source": [
    "cs = f.Ns[-1] > 10 * f.Nmin\n",
    "cr = f.Nr[-1] > 10 * f.Nmin\n",
    "mj = np.r_[f.ms[-1][cs], f.mr[-1][cr]]\n",
    "Mj = np.r_[f.Ms[-1][cs], f.Mr[-1][cr]]\n",
    "dms = f.mes[-1][1:] - f.mes[-1][0:-1]\n",
    "nms = len(f.ms[-1][cs])\n",
    "# Add in bin of 1.6 MSol to use to model MSPs\n",
    "mj = np.append(mj, 1.6)\n",
    "Mj = np.append(Mj, 0.1)"
   ]
  },
  {
   "cell_type": "code",
   "execution_count": 10,
   "id": "7be7f803-2915-4f77-8b41-19295eb5aa0d",
   "metadata": {},
   "outputs": [
    {
     "name": "stdout",
     "output_type": "stream",
     "text": [
      "CPU times: user 3.5 s, sys: 1.13 ms, total: 3.5 s\n",
      "Wall time: 3.5 s\n"
     ]
    }
   ],
   "source": [
    "%time m = limepy(phi0=6.3, g=0.84,ra = 10**1.28,mj=mj,Mj=Mj, rh=7.47,M=0.967e6,delta=0.45,verbose=False, project=True)"
   ]
  },
  {
   "cell_type": "code",
   "execution_count": 11,
   "id": "bf73343b-cd3c-4aa5-a81f-91ee71ad8fc7",
   "metadata": {},
   "outputs": [],
   "source": [
    "G_units = u.Unit('(pc km2) / (s2 Msun)')\n",
    "R_units = u.pc\n",
    "M_units = u.Msun\n",
    "V2_units = G_units * M_units / R_units\n",
    "\n",
    "m.G <<= G_units\n",
    "\n",
    "m.M <<= M_units\n",
    "m.mj <<= M_units\n",
    "m.Mj <<= M_units\n",
    "m.mc <<= M_units\n",
    "\n",
    "m.r <<= R_units\n",
    "m.rh <<= R_units\n",
    "m.rt <<= R_units\n",
    "m.ra <<= R_units\n",
    "\n",
    "m.v2Tj <<= V2_units\n",
    "m.v2Rj <<= V2_units\n",
    "m.v2pj <<= V2_units\n",
    "\n",
    "m.rhoj <<= (M_units / R_units**3)\n",
    "m.Sigmaj <<= (M_units / R_units**2)\n",
    "\n",
    "m.d = 4.45\n",
    "m.d <<= u.kpc"
   ]
  },
  {
   "cell_type": "code",
   "execution_count": 12,
   "id": "f463ec8e-425b-43c5-b36c-1e44bdd2169a",
   "metadata": {},
   "outputs": [],
   "source": [
    "a_space = np.linspace(-20e-9, 20e-9, 5000)"
   ]
  },
  {
   "cell_type": "code",
   "execution_count": 13,
   "id": "bac59c79-7c6a-45e9-ad9a-99bc910f8525",
   "metadata": {},
   "outputs": [],
   "source": [
    "pdot, Paz = cluster_component(model=m, R=pulsars[1][\"r_pc\"],mass_bin=-1 )"
   ]
  },
  {
   "cell_type": "code",
   "execution_count": 14,
   "id": "2d20e18f-3522-45bf-9fdd-dd9184577288",
   "metadata": {},
   "outputs": [
    {
     "data": {
      "text/plain": [
       "[<matplotlib.lines.Line2D at 0x7f18454459a0>]"
      ]
     },
     "execution_count": 14,
     "metadata": {},
     "output_type": "execute_result"
    },
    {
     "data": {
      "image/png": "[encoded data removed]",
      "text/plain": [
       "<Figure size 576x432 with 1 Axes>"
      ]
     },
     "metadata": {
      "image/png": {
       "height": 384,
       "width": 494
      }
     },
     "output_type": "display_data"
    }
   ],
   "source": [
    "plt.plot(pdot, Paz)"
   ]
  },
  {
   "cell_type": "code",
   "execution_count": null,
   "id": "b7fce755-4948-4604-bc6d-f4a24f837f62",
   "metadata": {},
   "outputs": [],
   "source": []
  }
 ],
 "metadata": {
  "kernelspec": {
   "display_name": "gcfit",
   "language": "python",
   "name": "gcfit"
  },
  "language_info": {
   "codemirror_mode": {
    "name": "ipython",
    "version": 3
   },
   "file_extension": ".py",
   "mimetype": "text/x-python",
   "name": "python",
   "nbconvert_exporter": "python",
   "pygments_lexer": "ipython3",
   "version": "3.8.10"
  }
 },
 "nbformat": 4,
 "nbformat_minor": 5
}
