{
 "cells": [
  {
   "cell_type": "code",
   "execution_count": 1,
   "id": "81e91383-2237-4a50-982b-102c5f6f2af6",
   "metadata": {},
   "outputs": [],
   "source": [
    "# %matplotlib widget\n",
    "%matplotlib inline\n",
    "%config InlineBackend.figure_format = \"retina\"\n",
    "\n",
    "import sys\n",
    "import pandas as pd\n",
    "import matplotlib.pyplot as plt\n",
    "import seaborn\n",
    "\n",
    "seaborn.set(context=\"notebook\", style=\"darkgrid\")\n",
    "plt.rcParams[\"figure.figsize\"] = (8, 6)\n",
    "from tqdm.auto import tqdm, trange\n",
    "\n",
    "from ssptools import evolve_mf_3 as emf3\n",
    "from limepy import *\n",
    "from scipy.signal import convolve\n",
    "import numpy as np\n",
    "import scipy\n",
    "import scipy as sp\n",
    "import pandas as pd\n",
    "from scipy.interpolate import BPoly, interp1d, UnivariateSpline\n",
    "from numpy import exp, sqrt, pi, sin, cos, log10\n",
    "from scipy.special import gamma, gammainc, hyp1f1\n",
    "from scipy.integrate import ode, simpson, quad\n",
    "from math import factorial, sinh\n",
    "import astropy.units as u\n",
    "from astropy.constants import c\n",
    "from astropy.table import QTable\n",
    "from astropy.io import ascii"
   ]
  },
  {
   "cell_type": "code",
   "execution_count": 2,
   "id": "2150455f-e9ca-48a1-aabf-8312addffad5",
   "metadata": {},
   "outputs": [],
   "source": [
    "import fitter\n",
    "from fitter.probabilities.pulsars import *"
   ]
  },
  {
   "cell_type": "code",
   "execution_count": null,
   "id": "c0add0a0-c7b2-40af-8bb5-ed97fdece886",
   "metadata": {},
   "outputs": [],
   "source": []
  },
  {
   "cell_type": "code",
   "execution_count": 3,
   "id": "82480d15-4f66-4401-9778-0b5dc86d72da",
   "metadata": {},
   "outputs": [],
   "source": [
    "spins_data = QTable.read(\"47Tuc_spin_periods.dat\",format=\"ascii.csv\")"
   ]
  },
  {
   "cell_type": "code",
   "execution_count": 4,
   "id": "1dd41f3e-4788-479c-a238-3677cc765b91",
   "metadata": {},
   "outputs": [
    {
     "data": {
      "text/html": [
       "<i>QTable length=22</i>\n",
       "<table id=\"table140163929436752\" class=\"table-striped table-bordered table-condensed\">\n",
       "<thead><tr><th>P</th><th>Pdot_meas</th><th>id</th><th>r</th><th>ΔP</th><th>ΔPdot_meas</th><th>sigma_P</th><th>sigma_Pdot</th></tr></thead>\n",
       "<thead><tr><th>float64</th><th>str13</th><th>str15</th><th>float64</th><th>float64</th><th>float64</th><th>float64</th><th>float64</th></tr></thead>\n",
       "<tr><td>0.0037046394947985004</td><td>9.82e-21</td><td>b&apos;J0024-7204ab&apos;</td><td>0.2092</td><td>5e-16</td><td>8e-24</td><td>5e-16</td><td>8e-24</td></tr>\n",
       "<tr><td>0.0057567799955164</td><td>-4.985e-20</td><td>b&apos;J0024-7204c&apos;</td><td>1.2298</td><td>1.0000000000000001e-16</td><td>2e-24</td><td>1.0000000000000001e-16</td><td>2e-24</td></tr>\n",
       "<tr><td>0.00535757328486572</td><td>-3.4219e-21</td><td>b&apos;J0024-7204D&apos;</td><td>0.6483</td><td>7e-17</td><td>9e-25</td><td>7e-17</td><td>9e-25</td></tr>\n",
       "<tr><td>0.0035363291527624303</td><td>9.85103e-20</td><td>b&apos;J0024-7204E&apos;</td><td>0.6205</td><td>3e-17</td><td>5e-25</td><td>3e-17</td><td>5e-25</td></tr>\n",
       "<tr><td>0.00262357935251262</td><td>6.45031e-20</td><td>b&apos;J0024-7204F&apos;</td><td>0.2149</td><td>3e-17</td><td>7e-25</td><td>3e-17</td><td>7e-25</td></tr>\n",
       "<tr><td>0.0040403791435651</td><td>-4.2159e-20</td><td>b&apos;J0024-7204G&apos;</td><td>0.2781</td><td>1.0000000000000001e-16</td><td>2e-24</td><td>1.0000000000000001e-16</td><td>2e-24</td></tr>\n",
       "<tr><td>0.0032103407093504004</td><td>-1.83e-21</td><td>b&apos;J0024-7204H&apos;</td><td>0.7677</td><td>1.0000000000000001e-16</td><td>1e-24</td><td>1.0000000000000001e-16</td><td>1e-24</td></tr>\n",
       "<tr><td>0.0034849920616629</td><td>-4.5873e-20</td><td>b&apos;J0024-7204I&apos;</td><td>0.2772</td><td>1.0000000000000001e-16</td><td>2e-24</td><td>1.0000000000000001e-16</td><td>2e-24</td></tr>\n",
       "<tr><td>0.00210063354535248</td><td>-9.7919e-21</td><td>b&apos;J0024-7204J&apos;</td><td>1.0185</td><td>6e-17</td><td>9e-25</td><td>6e-17</td><td>9e-25</td></tr>\n",
       "<tr><td>0.0043461679994616</td><td>-1.220406e-19</td><td>b&apos;J0024-7204L&apos;</td><td>0.1627</td><td>3e-16</td><td>1e-24</td><td>3e-16</td><td>1e-24</td></tr>\n",
       "<tr><td>0.0036766432176002</td><td>-3.8418e-20</td><td>b&apos;J0024-7204M&apos;</td><td>1.0688</td><td>3e-16</td><td>5e-24</td><td>3e-16</td><td>5e-24</td></tr>\n",
       "<tr><td>0.0030539543462608</td><td>-2.1857e-20</td><td>b&apos;J0024-7204N&apos;</td><td>0.4793</td><td>1.0000000000000001e-16</td><td>2e-24</td><td>1.0000000000000001e-16</td><td>2e-24</td></tr>\n",
       "<tr><td>0.0026433432972435603</td><td>3.03493e-20</td><td>b&apos;J0024-7204O&apos;</td><td>0.0806</td><td>4e-17</td><td>6e-25</td><td>4e-17</td><td>6e-25</td></tr>\n",
       "<tr><td>0.0040331811845726</td><td>3.40076e-20</td><td>b&apos;J0024-7204Q&apos;</td><td>0.9502</td><td>2.0000000000000002e-16</td><td>6e-25</td><td>2.0000000000000002e-16</td><td>6e-25</td></tr>\n",
       "<tr><td>0.0034804627074933</td><td>1.48351e-19</td><td>b&apos;J0024-7204R&apos;</td><td>0.1519</td><td>2.0000000000000002e-16</td><td>3e-24</td><td>2.0000000000000002e-16</td><td>3e-24</td></tr>\n",
       "<tr><td>0.00283040595787912</td><td>-1.20541e-19</td><td>b&apos;J0024-7204S&apos;</td><td>0.215</td><td>7e-17</td><td>1e-24</td><td>7e-17</td><td>1e-24</td></tr>\n",
       "<tr><td>0.0075884798073671</td><td>2.938e-19</td><td>b&apos;J0024-7204T&apos;</td><td>0.3179</td><td>9e-16</td><td>1e-23</td><td>9e-16</td><td>1e-23</td></tr>\n",
       "<tr><td>0.0043428266963923</td><td>9.5228e-20</td><td>b&apos;J0024-7204U&apos;</td><td>0.9386</td><td>1.0000000000000001e-16</td><td>2e-24</td><td>1.0000000000000001e-16</td><td>2e-24</td></tr>\n",
       "<tr><td>0.00219665714352124</td><td>-3.5172e-20</td><td>b&apos;J0024-7204Y&apos;</td><td>0.3743</td><td>6e-17</td><td>8e-25</td><td>6e-17</td><td>8e-25</td></tr>\n",
       "<tr><td>0.004554447383906</td><td>-4.56e-21</td><td>b&apos;J0024-7204Z&apos;</td><td>0.1506</td><td>3.0000000000000002e-15</td><td>1e-22</td><td>3.0000000000000002e-15</td><td>1e-22</td></tr>\n",
       "<tr><td>0.002352344531937</td><td>−8.6553e-20</td><td>b&apos;J0024-7204W&apos;</td><td>0.1126</td><td>3e-16</td><td>1e-24</td><td>3e-16</td><td>1e-24</td></tr>\n",
       "<tr><td>0.00184538052968</td><td>-4.5890e-20</td><td>b&apos;J0024-7204aa&apos;</td><td>0.63</td><td>6e-16</td><td>1.5e-23</td><td>6e-16</td><td>1.5e-23</td></tr>\n",
       "</table>"
      ],
      "text/plain": [
       "<QTable length=22>\n",
       "          P             Pdot_meas   ...        sigma_P         sigma_Pdot\n",
       "       float64            str13     ...        float64          float64  \n",
       "--------------------- ------------- ... ---------------------- ----------\n",
       "0.0037046394947985004      9.82e-21 ...                  5e-16      8e-24\n",
       "   0.0057567799955164    -4.985e-20 ... 1.0000000000000001e-16      2e-24\n",
       "  0.00535757328486572   -3.4219e-21 ...                  7e-17      9e-25\n",
       "0.0035363291527624303   9.85103e-20 ...                  3e-17      5e-25\n",
       "  0.00262357935251262   6.45031e-20 ...                  3e-17      7e-25\n",
       "   0.0040403791435651   -4.2159e-20 ... 1.0000000000000001e-16      2e-24\n",
       "0.0032103407093504004     -1.83e-21 ... 1.0000000000000001e-16      1e-24\n",
       "   0.0034849920616629   -4.5873e-20 ... 1.0000000000000001e-16      2e-24\n",
       "  0.00210063354535248   -9.7919e-21 ...                  6e-17      9e-25\n",
       "   0.0043461679994616 -1.220406e-19 ...                  3e-16      1e-24\n",
       "   0.0036766432176002   -3.8418e-20 ...                  3e-16      5e-24\n",
       "   0.0030539543462608   -2.1857e-20 ... 1.0000000000000001e-16      2e-24\n",
       "0.0026433432972435603   3.03493e-20 ...                  4e-17      6e-25\n",
       "   0.0040331811845726   3.40076e-20 ... 2.0000000000000002e-16      6e-25\n",
       "   0.0034804627074933   1.48351e-19 ... 2.0000000000000002e-16      3e-24\n",
       "  0.00283040595787912  -1.20541e-19 ...                  7e-17      1e-24\n",
       "   0.0075884798073671     2.938e-19 ...                  9e-16      1e-23\n",
       "   0.0043428266963923    9.5228e-20 ... 1.0000000000000001e-16      2e-24\n",
       "  0.00219665714352124   -3.5172e-20 ...                  6e-17      8e-25\n",
       "    0.004554447383906     -4.56e-21 ... 3.0000000000000002e-15      1e-22\n",
       "    0.002352344531937   −8.6553e-20 ...                  3e-16      1e-24\n",
       "     0.00184538052968   -4.5890e-20 ...                  6e-16    1.5e-23"
      ]
     },
     "execution_count": 4,
     "metadata": {},
     "output_type": "execute_result"
    }
   ],
   "source": [
    "spins_data"
   ]
  },
  {
   "cell_type": "code",
   "execution_count": 5,
   "id": "bbfc7c94-88a3-4c80-af3c-8c84e6b76cd8",
   "metadata": {},
   "outputs": [],
   "source": [
    "spins_data[\"r\"] <<= u.pc\n",
    "spins_data[\"P\"] <<= u.s\n"
   ]
  },
  {
   "cell_type": "code",
   "execution_count": null,
   "id": "6d29aa1f-3161-49e8-a20e-4852718f4878",
   "metadata": {},
   "outputs": [],
   "source": []
  },
  {
   "cell_type": "code",
   "execution_count": 6,
   "id": "e823a42f-88e4-418f-9302-f5075680f859",
   "metadata": {},
   "outputs": [],
   "source": [
    "m123 = [0.1, 0.5, 1.0, 100]  # Slope breakpoints for initial mass function\n",
    "a12 = [-0.49, -0.56, -2.58]  # Slopes for initial mass function\n",
    "nbin12 = [5, 5, 20]\n",
    "\n",
    "# Output times for the evolution\n",
    "tout = np.array(\n",
    "    [\n",
    "        11000,\n",
    "    ]\n",
    ")\n",
    "# tout = np.array([11000])\n",
    "\n",
    "# Integration settings\n",
    "N0 = 5e5  # Normalization of stars\n",
    "Ndot = -0.0001  # Regulates how low mass objects are depleted default -20, 0 for 47 Tuc\n",
    "tcc = 0  # Core collapse time\n",
    "NS_ret = 0.1  # Initial neutron star retention\n",
    "BH_ret_int = 1  # Initial Black Hole retention\n",
    "BH_ret_dyn = 0.00235  # Dynamical Black Hole retention\n",
    "FeHe = -0.7  # Metallicity"
   ]
  },
  {
   "cell_type": "code",
   "execution_count": 7,
   "id": "3435820a-8c7b-4eef-abff-70e691e74bf5",
   "metadata": {},
   "outputs": [
    {
     "name": "stderr",
     "output_type": "stream",
     "text": [
      "/home/peter/anaconda3/envs/gcfit/lib/python3.8/site-packages/ssptools/evolve_mf_3.py:321: RuntimeWarning: divide by zero encountered in true_divide\n",
      "  As = Ns / P1\n"
     ]
    }
   ],
   "source": [
    "f = emf3.evolve_mf(\n",
    "    m123=m123,\n",
    "    a12=a12,\n",
    "    nbin12=nbin12,\n",
    "    tout=tout,\n",
    "    N0=N0,\n",
    "    Ndot=Ndot,\n",
    "    tcc=tcc,\n",
    "    NS_ret=NS_ret,\n",
    "    BH_ret_int=BH_ret_int,\n",
    "    BH_ret_dyn=BH_ret_dyn,\n",
    "    FeHe=FeHe,\n",
    "    natal_kicks=True,\n",
    "    vesc=150,\n",
    ")"
   ]
  },
  {
   "cell_type": "code",
   "execution_count": 8,
   "id": "247d3704-d9ec-42ff-b942-94ff9e751bda",
   "metadata": {},
   "outputs": [],
   "source": [
    "cs = f.Ns[-1] > 10 * f.Nmin\n",
    "cr = f.Nr[-1] > 10 * f.Nmin\n",
    "mj = np.r_[f.ms[-1][cs], f.mr[-1][cr]]\n",
    "Mj = np.r_[f.Ms[-1][cs], f.Mr[-1][cr]]\n",
    "dms = f.mes[-1][1:] - f.mes[-1][0:-1]\n",
    "nms = len(f.ms[-1][cs])\n",
    "# Add in bin of 1.6 MSol to use to model MSPs\n",
    "mj = np.append(mj, 1.6)\n",
    "Mj = np.append(Mj, 0.1)"
   ]
  },
  {
   "cell_type": "code",
   "execution_count": 9,
   "id": "7be7f803-2915-4f77-8b41-19295eb5aa0d",
   "metadata": {},
   "outputs": [
    {
     "name": "stdout",
     "output_type": "stream",
     "text": [
      "CPU times: user 3.87 s, sys: 0 ns, total: 3.87 s\n",
      "Wall time: 3.87 s\n"
     ]
    }
   ],
   "source": [
    "%time m = limepy(phi0=6.3, g=0.84,ra = 10**1.28,mj=mj,Mj=Mj, rh=7.47,M=0.967e6,delta=0.45,verbose=False, project=True)"
   ]
  },
  {
   "cell_type": "code",
   "execution_count": 10,
   "id": "bf73343b-cd3c-4aa5-a81f-91ee71ad8fc7",
   "metadata": {},
   "outputs": [],
   "source": [
    "G_units = u.Unit('(pc km2) / (s2 Msun)')\n",
    "R_units = u.pc\n",
    "M_units = u.Msun\n",
    "V2_units = G_units * M_units / R_units\n",
    "\n",
    "m.G <<= G_units\n",
    "\n",
    "m.M <<= M_units\n",
    "m.mj <<= M_units\n",
    "m.Mj <<= M_units\n",
    "m.mc <<= M_units\n",
    "\n",
    "m.r <<= R_units\n",
    "m.rh <<= R_units\n",
    "m.rt <<= R_units\n",
    "m.ra <<= R_units\n",
    "\n",
    "m.v2Tj <<= V2_units\n",
    "m.v2Rj <<= V2_units\n",
    "m.v2pj <<= V2_units\n",
    "\n",
    "m.rhoj <<= (M_units / R_units**3)\n",
    "m.Sigmaj <<= (M_units / R_units**2)\n",
    "\n",
    "m.d = 4.45\n",
    "m.d <<= u.kpc"
   ]
  },
  {
   "cell_type": "code",
   "execution_count": 11,
   "id": "f463ec8e-425b-43c5-b36c-1e44bdd2169a",
   "metadata": {},
   "outputs": [],
   "source": [
    "a_space = np.linspace(-20e-9, 20e-9, 5000)"
   ]
  },
  {
   "cell_type": "code",
   "execution_count": 12,
   "id": "bac59c79-7c6a-45e9-ad9a-99bc910f8525",
   "metadata": {},
   "outputs": [],
   "source": [
    "pdot, Paz = cluster_component(model=m, R=spins_data[1][\"r\"],mass_bin=-1 )"
   ]
  },
  {
   "cell_type": "code",
   "execution_count": 13,
   "id": "2d20e18f-3522-45bf-9fdd-dd9184577288",
   "metadata": {},
   "outputs": [
    {
     "data": {
      "text/plain": [
       "[<matplotlib.lines.Line2D at 0x7f7a5da28490>]"
      ]
     },
     "execution_count": 13,
     "metadata": {},
     "output_type": "execute_result"
    },
    {
     "data": {
      "image/png": "[encoded data removed]",
      "text/plain": [
       "<Figure size 576x432 with 1 Axes>"
      ]
     },
     "metadata": {
      "image/png": {
       "height": 384,
       "width": 477
      }
     },
     "output_type": "display_data"
    }
   ],
   "source": [
    "plt.plot(pdot, Paz)"
   ]
  },
  {
   "cell_type": "code",
   "execution_count": null,
   "id": "1d44e40f-f423-4625-872b-6d6387728049",
   "metadata": {},
   "outputs": [],
   "source": []
  },
  {
   "cell_type": "code",
   "execution_count": 14,
   "id": "2486cb17-1615-4ef9-9aa5-5f8d8f789055",
   "metadata": {},
   "outputs": [],
   "source": [
    "# It's normalized if you add the factor of c back in"
   ]
  },
  {
   "cell_type": "code",
   "execution_count": 15,
   "id": "b7fce755-4948-4604-bc6d-f4a24f837f62",
   "metadata": {},
   "outputs": [],
   "source": [
    "Paz_spl = UnivariateSpline(pdot*c,Paz)"
   ]
  },
  {
   "cell_type": "code",
   "execution_count": 16,
   "id": "76c3728b-aad3-4f48-b154-332bb7ff826c",
   "metadata": {},
   "outputs": [
    {
     "data": {
      "text/plain": [
       "1.033119592345619"
      ]
     },
     "execution_count": 16,
     "metadata": {},
     "output_type": "execute_result"
    }
   ],
   "source": [
    "Paz_spl.integral(-np.inf,np.inf)"
   ]
  },
  {
   "cell_type": "code",
   "execution_count": 17,
   "id": "cc426014-9759-404e-8e7f-7aa9bdfb9ba4",
   "metadata": {},
   "outputs": [],
   "source": [
    "from fitter.probabilities import likelihood_pulsar_spin, likelihood_pulsar_orbital"
   ]
  },
  {
   "cell_type": "code",
   "execution_count": 18,
   "id": "2ec039e9-5cef-4057-805f-3bd806e7680e",
   "metadata": {},
   "outputs": [
    {
     "name": "stderr",
     "output_type": "stream",
     "text": [
      "/home/peter/research/GCfit/fitter/probabilities/pulsars.py:288: RuntimeWarning: invalid value encountered in log10\n",
      "  Pdot_int = np.log10(Pdot_int)\n",
      "/home/peter/research/GCfit/fitter/probabilities/probabilities.py:251: RuntimeWarning: divide by zero encountered in log\n",
      "  logprobs = np.log(probs)\n"
     ]
    },
    {
     "data": {
      "text/plain": [
       "-inf"
      ]
     },
     "execution_count": 18,
     "metadata": {},
     "output_type": "execute_result"
    }
   ],
   "source": [
    "likelihood_pulsar_spin(\n",
    "    model=m,\n",
    "    pulsars=spins_data,\n",
    "    Pdot_kde=None,\n",
    "    cluster_μ=-2.53,\n",
    "    coords=(-44, 305),\n",
    "    mass_bin=-1,\n",
    ")"
   ]
  },
  {
   "cell_type": "code",
   "execution_count": null,
   "id": "e00cb65e-1ccd-495a-95dd-ca5e2664c972",
   "metadata": {},
   "outputs": [],
   "source": []
  }
 ],
 "metadata": {
  "kernelspec": {
   "display_name": "gcfit",
   "language": "python",
   "name": "gcfit"
  },
  "language_info": {
   "codemirror_mode": {
    "name": "ipython",
    "version": 3
   },
   "file_extension": ".py",
   "mimetype": "text/x-python",
   "name": "python",
   "nbconvert_exporter": "python",
   "pygments_lexer": "ipython3",
   "version": "3.8.10"
  }
 },
 "nbformat": 4,
 "nbformat_minor": 5
}
