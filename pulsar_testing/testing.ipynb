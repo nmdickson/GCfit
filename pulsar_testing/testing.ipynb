{
 "cells": [
  {
   "cell_type": "code",
   "execution_count": 1,
   "id": "81e91383-2237-4a50-982b-102c5f6f2af6",
   "metadata": {},
   "outputs": [],
   "source": [
    "# %matplotlib widget\n",
    "%matplotlib inline\n",
    "%config InlineBackend.figure_format = \"retina\"\n",
    "\n",
    "import sys\n",
    "import pandas as pd\n",
    "import matplotlib.pyplot as plt\n",
    "import seaborn\n",
    "\n",
    "seaborn.set(context=\"notebook\", style=\"darkgrid\")\n",
    "plt.rcParams[\"figure.figsize\"] = (8, 6)\n",
    "from tqdm.auto import tqdm, trange\n",
    "\n",
    "from ssptools import evolve_mf_3 as emf3\n",
    "from limepy import *\n",
    "from scipy.signal import convolve\n",
    "import numpy as np\n",
    "import scipy\n",
    "import scipy as sp\n",
    "import pandas as pd\n",
    "from scipy.interpolate import BPoly, interp1d, UnivariateSpline\n",
    "from numpy import exp, sqrt, pi, sin, cos, log10\n",
    "from scipy.special import gamma, gammainc, hyp1f1\n",
    "from scipy.integrate import ode, simpson, quad\n",
    "from math import factorial, sinh\n",
    "import astropy.units as u\n",
    "from astropy.constants import c\n",
    "from astropy.table import QTable\n",
    "from astropy.io import ascii"
   ]
  },
  {
   "cell_type": "code",
   "execution_count": 2,
   "id": "2150455f-e9ca-48a1-aabf-8312addffad5",
   "metadata": {},
   "outputs": [],
   "source": [
    "import fitter\n",
    "from fitter.probabilities.pulsars import *"
   ]
  },
  {
   "cell_type": "code",
   "execution_count": 3,
   "id": "63ad277a-7288-4bd3-b04e-57ba33ee48a5",
   "metadata": {},
   "outputs": [],
   "source": [
    "pulsars_isolated = QTable(ascii.read(\"../../47-tuc-pulsar-fitting/data/pulsars_isolated_acc.dat\"))\n",
    "pulsars_orbital = QTable(ascii.read(\"../../47-tuc-pulsar-fitting/data/pulsar_accelerations.csv\"))"
   ]
  },
  {
   "cell_type": "code",
   "execution_count": 4,
   "id": "b658fedb-84cd-4e8f-9f5b-78b96e9b74ba",
   "metadata": {},
   "outputs": [
    {
     "data": {
      "text/html": [
       "<i>QTable length=13</i>\n",
       "<table id=\"table140386197623616\" class=\"table-striped table-bordered table-condensed\">\n",
       "<thead><tr><th>Pulsar</th><th>r_pc</th><th>P</th><th>sigma_P</th><th>Pdot</th><th>sigma_Pdot</th><th>DM</th><th>sigma_DM</th><th>a_los</th><th>sigma_a_los</th></tr></thead>\n",
       "<thead><tr><th>str2</th><th>float64</th><th>float64</th><th>float64</th><th>float64</th><th>float64</th><th>float64</th><th>float64</th><th>float64</th><th>float64</th></tr></thead>\n",
       "<tr><td>C</td><td>1.6778</td><td>0.0057567799955164</td><td>1e-19</td><td>-4.985e-20</td><td>2.0000000000000002e-24</td><td>24.6</td><td>0.004</td><td>-2.5960092348395224e-09</td><td>1.0415282787721256e-13</td></tr>\n",
       "<tr><td>D</td><td>0.8845</td><td>0.00535757328486572</td><td>7e-14</td><td>-3.4218999999999995e-21</td><td>8.999999999999998e-25</td><td>24.732</td><td>0.003</td><td>-1.9147844695434933e-10</td><td>5.036108660653865e-14</td></tr>\n",
       "<tr><td>F</td><td>0.2932</td><td>0.00262357935251262</td><td>3e-17</td><td>6.45031e-20</td><td>6.9999999999999995e-25</td><td>24.382</td><td>0.005</td><td>7.370672009253352e-09</td><td>7.998794486586453e-14</td></tr>\n",
       "<tr><td>G</td><td>0.3794</td><td>0.0040403791435651</td><td>1e-16</td><td>-4.2159e-20</td><td>2.0000000000000002e-24</td><td>24.436</td><td>0.004</td><td>-3.1281594592307987e-09</td><td>1.4839818113478967e-13</td></tr>\n",
       "<tr><td>J</td><td>1.3895</td><td>0.00210063354535248</td><td>6e-17</td><td>-9.791899999999999e-21</td><td>8.999999999999998e-25</td><td>24.588</td><td>0.003</td><td>-1.3974535329995527e-09</td><td>1.284437320335785e-13</td></tr>\n",
       "<tr><td>L</td><td>0.222</td><td>0.0043461679994616</td><td>3e-16</td><td>-1.2204059999999998e-19</td><td>1e-24</td><td>24.4</td><td>0.012</td><td>-8.418186193982181e-09</td><td>6.897857101638458e-14</td></tr>\n",
       "<tr><td>M</td><td>1.4581</td><td>0.0036766432176002</td><td>3e-16</td><td>-3.8418e-20</td><td>5e-24</td><td>24.432</td><td>0.016</td><td>-3.1325929577038473e-09</td><td>4.076985993159258e-13</td></tr>\n",
       "<tr><td>N</td><td>0.6539</td><td>0.0030539543462608</td><td>1e-16</td><td>-2.1857e-20</td><td>2.0000000000000002e-24</td><td>24.574</td><td>0.009</td><td>-2.1455997737912576e-09</td><td>1.9633067427288814e-13</td></tr>\n",
       "<tr><td>O</td><td>0.1099</td><td>0.00264334329724356</td><td>4e-17</td><td>3.03493e-20</td><td>6e-25</td><td>24.356</td><td>0.002</td><td>3.44203919902011e-09</td><td>6.80484729272855e-14</td></tr>\n",
       "<tr><td>W</td><td>0.1126</td><td>0.002352344531937</td><td>3e-16</td><td>-8.6553e-20</td><td>1.0000000000000001e-24</td><td>24.367</td><td>0.003</td><td>-1.1030670152687028e-08</td><td>1.2744411115370964e-13</td></tr>\n",
       "<tr><td>Z</td><td>0.2054</td><td>0.004554447383906</td><td>3e-15</td><td>-4.5600000000000005e-21</td><td>1.0000000000000001e-23</td><td>24.45</td><td>0.04</td><td>-3.0015795402769217e-10</td><td>6.582411272537108e-13</td></tr>\n",
       "<tr><td>aa</td><td>0.63</td><td>0.00184538052968</td><td>6e-16</td><td>-4.589e-20</td><td>1.5e-23</td><td>24.971</td><td>0.007</td><td>-7.455088897033952e-09</td><td>2.4368344618764278e-12</td></tr>\n",
       "<tr><td>ab</td><td>0.2854</td><td>0.0037046394947985</td><td>5e-16</td><td>9.82e-21</td><td>8.000000000000001e-24</td><td>24.373</td><td>0.02</td><td>7.946689392297065e-10</td><td>6.473881378653414e-13</td></tr>\n",
       "</table>"
      ],
      "text/plain": [
       "<QTable length=13>\n",
       "Pulsar   r_pc  ...          a_los               sigma_a_los      \n",
       " str2  float64 ...         float64                float64        \n",
       "------ ------- ... ----------------------- ----------------------\n",
       "     C  1.6778 ... -2.5960092348395224e-09 1.0415282787721256e-13\n",
       "     D  0.8845 ... -1.9147844695434933e-10  5.036108660653865e-14\n",
       "     F  0.2932 ...   7.370672009253352e-09  7.998794486586453e-14\n",
       "     G  0.3794 ... -3.1281594592307987e-09 1.4839818113478967e-13\n",
       "     J  1.3895 ... -1.3974535329995527e-09  1.284437320335785e-13\n",
       "     L   0.222 ...  -8.418186193982181e-09  6.897857101638458e-14\n",
       "     M  1.4581 ... -3.1325929577038473e-09  4.076985993159258e-13\n",
       "     N  0.6539 ... -2.1455997737912576e-09 1.9633067427288814e-13\n",
       "     O  0.1099 ...    3.44203919902011e-09   6.80484729272855e-14\n",
       "     W  0.1126 ... -1.1030670152687028e-08 1.2744411115370964e-13\n",
       "     Z  0.2054 ... -3.0015795402769217e-10  6.582411272537108e-13\n",
       "    aa    0.63 ...  -7.455088897033952e-09 2.4368344618764278e-12\n",
       "    ab  0.2854 ...   7.946689392297065e-10  6.473881378653414e-13"
      ]
     },
     "execution_count": 4,
     "metadata": {},
     "output_type": "execute_result"
    }
   ],
   "source": [
    "pulsars_isolated"
   ]
  },
  {
   "cell_type": "code",
   "execution_count": null,
   "id": "c0add0a0-c7b2-40af-8bb5-ed97fdece886",
   "metadata": {},
   "outputs": [],
   "source": []
  },
  {
   "cell_type": "code",
   "execution_count": 5,
   "id": "1094da75-9235-4e21-acae-63aa91c61559",
   "metadata": {},
   "outputs": [],
   "source": [
    "pulsars_isolated[\"a_los\"] <<= (u.m / u.s /u.s)\n",
    "pulsars_isolated[\"r_pc\"] <<= (u.pc)\n",
    "pulsars_isolated[\"P\"] <<= (u.s)"
   ]
  },
  {
   "cell_type": "code",
   "execution_count": 6,
   "id": "267d8a30-c65f-4c1e-bf09-d72271e895c5",
   "metadata": {},
   "outputs": [
    {
     "data": {
      "text/html": [
       "<i>QTable length=13</i>\n",
       "<table id=\"table140386197623616\" class=\"table-striped table-bordered table-condensed\">\n",
       "<thead><tr><th>Pulsar</th><th>r_pc</th><th>P</th><th>sigma_P</th><th>Pdot</th><th>sigma_Pdot</th><th>DM</th><th>sigma_DM</th><th>a_los</th><th>sigma_a_los</th></tr></thead>\n",
       "<thead><tr><th></th><th>pc</th><th>s</th><th></th><th></th><th></th><th></th><th></th><th>m / s2</th><th></th></tr></thead>\n",
       "<thead><tr><th>str2</th><th>float64</th><th>float64</th><th>float64</th><th>float64</th><th>float64</th><th>float64</th><th>float64</th><th>float64</th><th>float64</th></tr></thead>\n",
       "<tr><td>C</td><td>1.6778</td><td>0.0057567799955164</td><td>1e-19</td><td>-4.985e-20</td><td>2.0000000000000002e-24</td><td>24.6</td><td>0.004</td><td>-2.5960092348395224e-09</td><td>1.0415282787721256e-13</td></tr>\n",
       "<tr><td>D</td><td>0.8845</td><td>0.00535757328486572</td><td>7e-14</td><td>-3.4218999999999995e-21</td><td>8.999999999999998e-25</td><td>24.732</td><td>0.003</td><td>-1.9147844695434933e-10</td><td>5.036108660653865e-14</td></tr>\n",
       "<tr><td>F</td><td>0.2932</td><td>0.00262357935251262</td><td>3e-17</td><td>6.45031e-20</td><td>6.9999999999999995e-25</td><td>24.382</td><td>0.005</td><td>7.370672009253352e-09</td><td>7.998794486586453e-14</td></tr>\n",
       "<tr><td>G</td><td>0.3794</td><td>0.0040403791435651</td><td>1e-16</td><td>-4.2159e-20</td><td>2.0000000000000002e-24</td><td>24.436</td><td>0.004</td><td>-3.1281594592307987e-09</td><td>1.4839818113478967e-13</td></tr>\n",
       "<tr><td>J</td><td>1.3895</td><td>0.00210063354535248</td><td>6e-17</td><td>-9.791899999999999e-21</td><td>8.999999999999998e-25</td><td>24.588</td><td>0.003</td><td>-1.3974535329995527e-09</td><td>1.284437320335785e-13</td></tr>\n",
       "<tr><td>L</td><td>0.222</td><td>0.0043461679994616</td><td>3e-16</td><td>-1.2204059999999998e-19</td><td>1e-24</td><td>24.4</td><td>0.012</td><td>-8.418186193982181e-09</td><td>6.897857101638458e-14</td></tr>\n",
       "<tr><td>M</td><td>1.4581</td><td>0.0036766432176002</td><td>3e-16</td><td>-3.8418e-20</td><td>5e-24</td><td>24.432</td><td>0.016</td><td>-3.1325929577038473e-09</td><td>4.076985993159258e-13</td></tr>\n",
       "<tr><td>N</td><td>0.6539</td><td>0.0030539543462608</td><td>1e-16</td><td>-2.1857e-20</td><td>2.0000000000000002e-24</td><td>24.574</td><td>0.009</td><td>-2.1455997737912576e-09</td><td>1.9633067427288814e-13</td></tr>\n",
       "<tr><td>O</td><td>0.1099</td><td>0.00264334329724356</td><td>4e-17</td><td>3.03493e-20</td><td>6e-25</td><td>24.356</td><td>0.002</td><td>3.44203919902011e-09</td><td>6.80484729272855e-14</td></tr>\n",
       "<tr><td>W</td><td>0.1126</td><td>0.002352344531937</td><td>3e-16</td><td>-8.6553e-20</td><td>1.0000000000000001e-24</td><td>24.367</td><td>0.003</td><td>-1.1030670152687028e-08</td><td>1.2744411115370964e-13</td></tr>\n",
       "<tr><td>Z</td><td>0.2054</td><td>0.004554447383906</td><td>3e-15</td><td>-4.5600000000000005e-21</td><td>1.0000000000000001e-23</td><td>24.45</td><td>0.04</td><td>-3.0015795402769217e-10</td><td>6.582411272537108e-13</td></tr>\n",
       "<tr><td>aa</td><td>0.63</td><td>0.00184538052968</td><td>6e-16</td><td>-4.589e-20</td><td>1.5e-23</td><td>24.971</td><td>0.007</td><td>-7.455088897033952e-09</td><td>2.4368344618764278e-12</td></tr>\n",
       "<tr><td>ab</td><td>0.2854</td><td>0.0037046394947985</td><td>5e-16</td><td>9.82e-21</td><td>8.000000000000001e-24</td><td>24.373</td><td>0.02</td><td>7.946689392297065e-10</td><td>6.473881378653414e-13</td></tr>\n",
       "</table>"
      ],
      "text/plain": [
       "<QTable length=13>\n",
       "Pulsar   r_pc  ...          a_los               sigma_a_los      \n",
       "          pc   ...          m / s2                               \n",
       " str2  float64 ...         float64                float64        \n",
       "------ ------- ... ----------------------- ----------------------\n",
       "     C  1.6778 ... -2.5960092348395224e-09 1.0415282787721256e-13\n",
       "     D  0.8845 ... -1.9147844695434933e-10  5.036108660653865e-14\n",
       "     F  0.2932 ...   7.370672009253352e-09  7.998794486586453e-14\n",
       "     G  0.3794 ... -3.1281594592307987e-09 1.4839818113478967e-13\n",
       "     J  1.3895 ... -1.3974535329995527e-09  1.284437320335785e-13\n",
       "     L   0.222 ...  -8.418186193982181e-09  6.897857101638458e-14\n",
       "     M  1.4581 ... -3.1325929577038473e-09  4.076985993159258e-13\n",
       "     N  0.6539 ... -2.1455997737912576e-09 1.9633067427288814e-13\n",
       "     O  0.1099 ...    3.44203919902011e-09   6.80484729272855e-14\n",
       "     W  0.1126 ... -1.1030670152687028e-08 1.2744411115370964e-13\n",
       "     Z  0.2054 ... -3.0015795402769217e-10  6.582411272537108e-13\n",
       "    aa    0.63 ...  -7.455088897033952e-09 2.4368344618764278e-12\n",
       "    ab  0.2854 ...   7.946689392297065e-10  6.473881378653414e-13"
      ]
     },
     "execution_count": 6,
     "metadata": {},
     "output_type": "execute_result"
    }
   ],
   "source": [
    "pulsars_isolated"
   ]
  },
  {
   "cell_type": "code",
   "execution_count": 7,
   "id": "e823a42f-88e4-418f-9302-f5075680f859",
   "metadata": {},
   "outputs": [],
   "source": [
    "m123 = [0.1, 0.5, 1.0, 100]  # Slope breakpoints for initial mass function\n",
    "a12 = [-0.49, -0.56, -2.58]  # Slopes for initial mass function\n",
    "nbin12 = [5, 5, 20]\n",
    "\n",
    "# Output times for the evolution\n",
    "tout = np.array(\n",
    "    [\n",
    "        11000,\n",
    "    ]\n",
    ")\n",
    "# tout = np.array([11000])\n",
    "\n",
    "# Integration settings\n",
    "N0 = 5e5  # Normalization of stars\n",
    "Ndot = -0.0001  # Regulates how low mass objects are depleted default -20, 0 for 47 Tuc\n",
    "tcc = 0  # Core collapse time\n",
    "NS_ret = 0.1  # Initial neutron star retention\n",
    "BH_ret_int = 1  # Initial Black Hole retention\n",
    "BH_ret_dyn = 0.00235  # Dynamical Black Hole retention\n",
    "FeHe = -0.7  # Metallicity"
   ]
  },
  {
   "cell_type": "code",
   "execution_count": 8,
   "id": "3435820a-8c7b-4eef-abff-70e691e74bf5",
   "metadata": {},
   "outputs": [
    {
     "name": "stderr",
     "output_type": "stream",
     "text": [
      "/home/peter/anaconda3/envs/gcfit/lib/python3.8/site-packages/ssptools/evolve_mf_3.py:321: RuntimeWarning: divide by zero encountered in true_divide\n",
      "  As = Ns / P1\n"
     ]
    }
   ],
   "source": [
    "f = emf3.evolve_mf(\n",
    "    m123=m123,\n",
    "    a12=a12,\n",
    "    nbin12=nbin12,\n",
    "    tout=tout,\n",
    "    N0=N0,\n",
    "    Ndot=Ndot,\n",
    "    tcc=tcc,\n",
    "    NS_ret=NS_ret,\n",
    "    BH_ret_int=BH_ret_int,\n",
    "    BH_ret_dyn=BH_ret_dyn,\n",
    "    FeHe=FeHe,\n",
    "    natal_kicks=True,\n",
    "    vesc=150,\n",
    ")"
   ]
  },
  {
   "cell_type": "code",
   "execution_count": 9,
   "id": "247d3704-d9ec-42ff-b942-94ff9e751bda",
   "metadata": {},
   "outputs": [],
   "source": [
    "cs = f.Ns[-1] > 10 * f.Nmin\n",
    "cr = f.Nr[-1] > 10 * f.Nmin\n",
    "mj = np.r_[f.ms[-1][cs], f.mr[-1][cr]]\n",
    "Mj = np.r_[f.Ms[-1][cs], f.Mr[-1][cr]]\n",
    "dms = f.mes[-1][1:] - f.mes[-1][0:-1]\n",
    "nms = len(f.ms[-1][cs])\n",
    "# Add in bin of 1.6 MSol to use to model MSPs\n",
    "mj = np.append(mj, 1.6)\n",
    "Mj = np.append(Mj, 0.1)"
   ]
  },
  {
   "cell_type": "code",
   "execution_count": 10,
   "id": "7be7f803-2915-4f77-8b41-19295eb5aa0d",
   "metadata": {},
   "outputs": [
    {
     "name": "stdout",
     "output_type": "stream",
     "text": [
      "CPU times: user 4.41 s, sys: 4.31 ms, total: 4.41 s\n",
      "Wall time: 4.41 s\n"
     ]
    }
   ],
   "source": [
    "%time m = limepy(phi0=6.3, g=0.84,ra = 10**1.28,mj=mj,Mj=Mj, rh=7.47,M=0.967e6,delta=0.45,verbose=False, project=True)"
   ]
  },
  {
   "cell_type": "code",
   "execution_count": 11,
   "id": "bf73343b-cd3c-4aa5-a81f-91ee71ad8fc7",
   "metadata": {},
   "outputs": [],
   "source": [
    "G_units = u.Unit('(pc km2) / (s2 Msun)')\n",
    "R_units = u.pc\n",
    "M_units = u.Msun\n",
    "V2_units = G_units * M_units / R_units\n",
    "\n",
    "m.G <<= G_units\n",
    "\n",
    "m.M <<= M_units\n",
    "m.mj <<= M_units\n",
    "m.Mj <<= M_units\n",
    "m.mc <<= M_units\n",
    "\n",
    "m.r <<= R_units\n",
    "m.rh <<= R_units\n",
    "m.rt <<= R_units\n",
    "m.ra <<= R_units\n",
    "\n",
    "m.v2Tj <<= V2_units\n",
    "m.v2Rj <<= V2_units\n",
    "m.v2pj <<= V2_units\n",
    "\n",
    "m.rhoj <<= (M_units / R_units**3)\n",
    "m.Sigmaj <<= (M_units / R_units**2)\n",
    "\n",
    "m.d = 4.45\n",
    "m.d <<= u.kpc"
   ]
  },
  {
   "cell_type": "code",
   "execution_count": 12,
   "id": "f463ec8e-425b-43c5-b36c-1e44bdd2169a",
   "metadata": {},
   "outputs": [],
   "source": [
    "a_space = np.linspace(-20e-9, 20e-9, 5000)"
   ]
  },
  {
   "cell_type": "code",
   "execution_count": 13,
   "id": "bac59c79-7c6a-45e9-ad9a-99bc910f8525",
   "metadata": {},
   "outputs": [
    {
     "name": "stderr",
     "output_type": "stream",
     "text": [
      "/home/peter/anaconda3/envs/gcfit/lib/python3.8/site-packages/astropy/units/quantity.py:479: RuntimeWarning: invalid value encountered in true_divide\n",
      "  result = super().__array_ufunc__(function, method, *arrays, **kwargs)\n"
     ]
    }
   ],
   "source": [
    "pdot, Paz = cluster_component(model=m, R=pulsars_isolated[1][\"r_pc\"],mass_bin=-1 )"
   ]
  },
  {
   "cell_type": "code",
   "execution_count": 14,
   "id": "2d20e18f-3522-45bf-9fdd-dd9184577288",
   "metadata": {},
   "outputs": [
    {
     "data": {
      "text/plain": [
       "[<matplotlib.lines.Line2D at 0x7fae356073a0>]"
      ]
     },
     "execution_count": 14,
     "metadata": {},
     "output_type": "execute_result"
    },
    {
     "data": {
      "image/png": "[encoded data removed]",
      "text/plain": [
       "<Figure size 576x432 with 1 Axes>"
      ]
     },
     "metadata": {
      "image/png": {
       "height": 384,
       "width": 487
      }
     },
     "output_type": "display_data"
    }
   ],
   "source": [
    "plt.plot(pdot, Paz)"
   ]
  },
  {
   "cell_type": "code",
   "execution_count": null,
   "id": "1d44e40f-f423-4625-872b-6d6387728049",
   "metadata": {},
   "outputs": [],
   "source": []
  },
  {
   "cell_type": "code",
   "execution_count": 15,
   "id": "2486cb17-1615-4ef9-9aa5-5f8d8f789055",
   "metadata": {},
   "outputs": [],
   "source": [
    "# It's normalized if you add the factor of c back in"
   ]
  },
  {
   "cell_type": "code",
   "execution_count": 16,
   "id": "b7fce755-4948-4604-bc6d-f4a24f837f62",
   "metadata": {},
   "outputs": [],
   "source": [
    "Paz_spl = UnivariateSpline(pdot*c,Paz)"
   ]
  },
  {
   "cell_type": "code",
   "execution_count": 17,
   "id": "76c3728b-aad3-4f48-b154-332bb7ff826c",
   "metadata": {},
   "outputs": [
    {
     "data": {
      "text/plain": [
       "0.9968240358292979"
      ]
     },
     "execution_count": 17,
     "metadata": {},
     "output_type": "execute_result"
    }
   ],
   "source": [
    "Paz_spl.integral(-np.inf,np.inf)/2"
   ]
  },
  {
   "cell_type": "code",
   "execution_count": 18,
   "id": "cc426014-9759-404e-8e7f-7aa9bdfb9ba4",
   "metadata": {},
   "outputs": [],
   "source": [
    "from fitter.probabilities import likelihood_pulsar_spin, likelihood_pulsar_orbital"
   ]
  },
  {
   "cell_type": "code",
   "execution_count": 19,
   "id": "cc74da17-6684-475f-81fe-1c1efe2d6d20",
   "metadata": {},
   "outputs": [],
   "source": [
    "# make the indexing work with local data\n",
    "pulsars_isolated[\"r\"] = pulsars_isolated[\"r_pc\"]\n",
    "pulsars_isolated[\"Pdot_meas\"] = pulsars_isolated[\"Pdot\"]\n",
    "pulsars_isolated['ΔPdot_meas'] = pulsars_isolated[\"sigma_Pdot\"]"
   ]
  },
  {
   "cell_type": "code",
   "execution_count": 20,
   "id": "2ec039e9-5cef-4057-805f-3bd806e7680e",
   "metadata": {},
   "outputs": [
    {
     "name": "stderr",
     "output_type": "stream",
     "text": [
      "/home/peter/research/GCfit/fitter/probabilities/pulsars.py:280: RuntimeWarning: invalid value encountered in log10\n",
      "  Pdot_int = np.log10(Pdot_int)\n",
      "/home/peter/anaconda3/envs/gcfit/lib/python3.8/site-packages/astropy/units/quantity.py:479: RuntimeWarning: invalid value encountered in true_divide\n",
      "  result = super().__array_ufunc__(function, method, *arrays, **kwargs)\n"
     ]
    },
    {
     "data": {
      "text/plain": [
       "554.2871062489345"
      ]
     },
     "execution_count": 20,
     "metadata": {},
     "output_type": "execute_result"
    }
   ],
   "source": [
    "likelihood_pulsar_spin(\n",
    "    model=m,\n",
    "    pulsars=pulsars_isolated,\n",
    "    Pdot_kde=None,\n",
    "    cluster_μ=-2.53,\n",
    "    coords=(-44, 305),\n",
    "    mass_bin=-1,\n",
    ")"
   ]
  },
  {
   "cell_type": "code",
   "execution_count": null,
   "id": "e00cb65e-1ccd-495a-95dd-ca5e2664c972",
   "metadata": {},
   "outputs": [],
   "source": []
  }
 ],
 "metadata": {
  "kernelspec": {
   "display_name": "gcfit",
   "language": "python",
   "name": "gcfit"
  },
  "language_info": {
   "codemirror_mode": {
    "name": "ipython",
    "version": 3
   },
   "file_extension": ".py",
   "mimetype": "text/x-python",
   "name": "python",
   "nbconvert_exporter": "python",
   "pygments_lexer": "ipython3",
   "version": "3.8.10"
  }
 },
 "nbformat": 4,
 "nbformat_minor": 5
}
